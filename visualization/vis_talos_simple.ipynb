{
 "cells": [
  {
   "cell_type": "markdown",
   "metadata": {},
   "source": [
    "## Visualizing TALOS"
   ]
  },
  {
   "cell_type": "code",
   "execution_count": 1,
   "metadata": {},
   "outputs": [],
   "source": [
    "import rospy\n",
    "from sensor_msgs.msg import JointState\n",
    "from std_msgs.msg import Header\n",
    "import numpy as np\n",
    "import roslib\n",
    "import tf"
   ]
  },
  {
   "cell_type": "markdown",
   "metadata": {},
   "source": [
    "#### Start Instruction"
   ]
  },
  {
   "cell_type": "markdown",
   "metadata": {},
   "source": [
    "roslaunch talos_description upload.launch  # upload talos urdf to ros_param server\n",
    "\n",
    "rosrun robot_state_publisher robot_state_publisher\n",
    "\n",
    "rosrun rviz rviz -d ./rviz_config.rviz #change to rviz config locations"
   ]
  },
  {
   "cell_type": "markdown",
   "metadata": {},
   "source": [
    "#### Setting up ROS variables "
   ]
  },
  {
   "cell_type": "code",
   "execution_count": 2,
   "metadata": {},
   "outputs": [],
   "source": [
    "pub = rospy.Publisher('joint_states', JointState, queue_size=10)\n",
    "rospy.init_node('joint_state_publisher')\n",
    "rate = rospy.Rate(200) # 10hz\n",
    "\n",
    "config_str = JointState()\n",
    "config_str.header = Header()\n",
    "config_str.header.stamp = rospy.Time.now()\n",
    "config_str.name = ['leg_left_1_joint','leg_left_2_joint','leg_left_3_joint','leg_left_4_joint','leg_left_5_joint',\n",
    "'leg_left_6_joint','leg_right_1_joint','leg_right_2_joint','leg_right_3_joint',\n",
    "'leg_right_4_joint','leg_right_5_joint','leg_right_6_joint','torso_1_joint',\n",
    "'torso_2_joint','arm_left_1_joint','arm_left_2_joint','arm_left_3_joint',\n",
    "'arm_left_4_joint','arm_left_5_joint','arm_left_6_joint','arm_left_7_joint',\n",
    "'gripper_left_joint','arm_right_1_joint','arm_right_2_joint','arm_right_3_joint',\n",
    "'arm_right_4_joint','arm_right_5_joint','arm_right_6_joint','arm_right_7_joint',\n",
    "'gripper_right_joint','head_1_joint','head_2_joint']\n",
    "br = tf.TransformBroadcaster()"
   ]
  },
  {
   "cell_type": "markdown",
   "metadata": {},
   "source": [
    "#### Publishing the world frame w.r.t. the stairs"
   ]
  },
  {
   "cell_type": "code",
   "execution_count": 3,
   "metadata": {},
   "outputs": [],
   "source": [
    "br.sendTransform((0,0,0),\n",
    "                 (0,0,0,1),\n",
    "                 rospy.Time.now(),\n",
    "                 \"stairs_link\",\n",
    "                 \"world\"\n",
    "                 )\n",
    "rate.sleep()"
   ]
  },
  {
   "cell_type": "markdown",
   "metadata": {},
   "source": [
    "#### Loading the file"
   ]
  },
  {
   "cell_type": "code",
   "execution_count": 4,
   "metadata": {},
   "outputs": [
    {
     "name": "stdout",
     "output_type": "stream",
     "text": [
      "2948\n"
     ]
    }
   ],
   "source": [
    "file_name = 'talos_circle/5'\n",
    "root_file = '../samples/'\n",
    "\n",
    "f = open(root_file + file_name + '/talos_flatGround_config.csv','rb')\n",
    "traj = []\n",
    "for line in f.readlines():\n",
    "    traj.append(np.array([float(l) for l in line.split()])[np.newaxis,:])\n",
    "print len(traj)"
   ]
  },
  {
   "cell_type": "markdown",
   "metadata": {},
   "source": [
    "#### Sending to rviz"
   ]
  },
  {
   "cell_type": "code",
   "execution_count": 5,
   "metadata": {},
   "outputs": [],
   "source": [
    "for traj_i in traj:\n",
    "    config_str.header.stamp = rospy.Time.now()\n",
    "    config_str.position = traj_i[0,8:].tolist()  #the joint configurations\n",
    "    config_str.velocity = []\n",
    "    config_str.effort = []\n",
    "    \n",
    "    br.sendTransform((traj_i[0,1:4].tolist()), #root position\n",
    "                 (traj_i[0,4:8].tolist()),   #root orientation\n",
    "                 rospy.Time.now(),\n",
    "                 \"base_link\",\n",
    "                 \"world\"\n",
    "                 )\n",
    "\n",
    "    pub.publish(config_str)\n",
    "    rate.sleep()"
   ]
  },
  {
   "cell_type": "markdown",
   "metadata": {},
   "source": [
    "### Loading the contact information"
   ]
  },
  {
   "cell_type": "code",
   "execution_count": 6,
   "metadata": {},
   "outputs": [],
   "source": [
    "import numpy as np\n",
    "import pickle\n",
    "from pinocchio.libpinocchio_pywrap import SE3\n",
    "from crocoddyl import loadTalos, loadTalosLegs, loadHyQ, m2a"
   ]
  },
  {
   "cell_type": "code",
   "execution_count": 7,
   "metadata": {},
   "outputs": [
    {
     "name": "stdout",
     "output_type": "stream",
     "text": [
      "Phase 0\n",
      "Right foot contact is True at   R =\n",
      "           1 -1.34086e-19  7.85045e-17\n",
      "           0     0.999999     0.001708\n",
      "-7.85046e-17    -0.001708     0.999999\n",
      "  p =   0.964865   0.142576 0.00400528\n",
      "\n",
      "Left foot contact is True at   R =\n",
      "           1 -1.34086e-19  7.85045e-17\n",
      "           0     0.999999     0.001708\n",
      "-7.85046e-17    -0.001708     0.999999\n",
      "  p =   0.964865   0.312576 0.00400528\n",
      "\n",
      "Phase 1\n",
      "Right foot contact is False at   R =\n",
      "           1 -1.34086e-19  7.85045e-17\n",
      "           0     0.999999     0.001708\n",
      "-7.85046e-17    -0.001708     0.999999\n",
      "  p =   0.964865   0.142576 0.00400528\n",
      "\n",
      "Left foot contact is True at   R =\n",
      "           1 -1.34086e-19  7.85045e-17\n",
      "           0     0.999999     0.001708\n",
      "-7.85046e-17    -0.001708     0.999999\n",
      "  p =   0.964865   0.312576 0.00400528\n",
      "\n",
      "Phase 2\n",
      "Right foot contact is True at   R =\n",
      "    0.998118   -0.0613284 -0.000100939\n",
      "   0.0613285     0.998116    0.0017043\n",
      "-3.77258e-06  -0.00170728     0.999999\n",
      "  p =   0.781742  0.0908579 0.00399947\n",
      "\n",
      "Left foot contact is True at   R =\n",
      "           1 -1.34086e-19  7.85045e-17\n",
      "           0     0.999999     0.001708\n",
      "-7.85046e-17    -0.001708     0.999999\n",
      "  p =   0.964865   0.312576 0.00400528\n",
      "\n",
      "Phase 3\n",
      "Right foot contact is True at   R =\n",
      "    0.998118   -0.0613284 -0.000100939\n",
      "   0.0613285     0.998116    0.0017043\n",
      "-3.77258e-06  -0.00170728     0.999999\n",
      "  p =   0.781742  0.0908579 0.00399947\n",
      "\n",
      "Left foot contact is False at   R =\n",
      "           1 -1.34086e-19  7.85045e-17\n",
      "           0     0.999999     0.001708\n",
      "-7.85046e-17    -0.001708     0.999999\n",
      "  p =   0.964865   0.312576 0.00400528\n",
      "\n",
      "Phase 4\n",
      "Right foot contact is True at   R =\n",
      "    0.998118   -0.0613284 -0.000100939\n",
      "   0.0613285     0.998116    0.0017043\n",
      "-3.77258e-06  -0.00170728     0.999999\n",
      "  p =   0.781742  0.0908579 0.00399947\n",
      "\n",
      "Left foot contact is True at   R =\n",
      "    0.990217     0.139535   0.00023822\n",
      "   -0.139535     0.990216   0.00168659\n",
      "-5.50835e-07  -0.00170333     0.999999\n",
      "  p =   0.575223   0.282851 0.00400468\n",
      "\n",
      "Phase 5\n",
      "Right foot contact is False at   R =\n",
      "    0.998118   -0.0613284 -0.000100939\n",
      "   0.0613285     0.998116    0.0017043\n",
      "-3.77258e-06  -0.00170728     0.999999\n",
      "  p =   0.781742  0.0908579 0.00399947\n",
      "\n",
      "Left foot contact is True at   R =\n",
      "    0.990217     0.139535   0.00023822\n",
      "   -0.139535     0.990216   0.00168659\n",
      "-5.50835e-07  -0.00170333     0.999999\n",
      "  p =   0.575223   0.282851 0.00400468\n",
      "\n",
      "Phase 6\n",
      "Right foot contact is True at   R =\n",
      "    0.998118   -0.0613284 -0.000100939\n",
      "   0.0613285     0.998116    0.0017043\n",
      "-3.77258e-06  -0.00170728     0.999999\n",
      "  p =   0.485817   0.021746 0.00399937\n",
      "\n",
      "Left foot contact is True at   R =\n",
      "    0.990217     0.139535   0.00023822\n",
      "   -0.139535     0.990216   0.00168659\n",
      "-5.50835e-07  -0.00170333     0.999999\n",
      "  p =   0.575223   0.282851 0.00400468\n",
      "\n",
      "Phase 7\n",
      "Right foot contact is True at   R =\n",
      "    0.998118   -0.0613284 -0.000100939\n",
      "   0.0613285     0.998116    0.0017043\n",
      "-3.77258e-06  -0.00170728     0.999999\n",
      "  p =   0.485817   0.021746 0.00399937\n",
      "\n",
      "Left foot contact is False at   R =\n",
      "    0.990217     0.139535   0.00023822\n",
      "   -0.139535     0.990216   0.00168659\n",
      "-5.50835e-07  -0.00170333     0.999999\n",
      "  p =   0.575223   0.282851 0.00400468\n",
      "\n",
      "Phase 8\n",
      "Right foot contact is True at   R =\n",
      "    0.998118   -0.0613284 -0.000100939\n",
      "   0.0613285     0.998116    0.0017043\n",
      "-3.77258e-06  -0.00170728     0.999999\n",
      "  p =   0.485817   0.021746 0.00399937\n",
      "\n",
      "Left foot contact is True at   R =\n",
      "    0.990217     0.139535   0.00023822\n",
      "   -0.139535     0.990216   0.00168659\n",
      "-5.50835e-07  -0.00170333     0.999999\n",
      "  p =   0.270664    0.21137 0.00400458\n",
      "\n",
      "Phase 9\n",
      "Right foot contact is False at   R =\n",
      "    0.998118   -0.0613284 -0.000100939\n",
      "   0.0613285     0.998116    0.0017043\n",
      "-3.77258e-06  -0.00170728     0.999999\n",
      "  p =   0.485817   0.021746 0.00399937\n",
      "\n",
      "Left foot contact is True at   R =\n",
      "    0.990217     0.139535   0.00023822\n",
      "   -0.139535     0.990216   0.00168659\n",
      "-5.50835e-07  -0.00170333     0.999999\n",
      "  p =   0.270664    0.21137 0.00400458\n",
      "\n",
      "Phase 10\n",
      "Right foot contact is True at   R =\n",
      "    0.998118   -0.0613284 -0.000100939\n",
      "   0.0613285     0.998116    0.0017043\n",
      "-3.77258e-06  -0.00170728     0.999999\n",
      "  p =    0.18638 -0.0485387 0.00399927\n",
      "\n",
      "Left foot contact is True at   R =\n",
      "    0.990217     0.139535   0.00023822\n",
      "   -0.139535     0.990216   0.00168659\n",
      "-5.50835e-07  -0.00170333     0.999999\n",
      "  p =   0.270664    0.21137 0.00400458\n",
      "\n",
      "Phase 11\n",
      "Right foot contact is True at   R =\n",
      "    0.998118   -0.0613284 -0.000100939\n",
      "   0.0613285     0.998116    0.0017043\n",
      "-3.77258e-06  -0.00170728     0.999999\n",
      "  p =    0.18638 -0.0485387 0.00399927\n",
      "\n",
      "Left foot contact is False at   R =\n",
      "    0.990217     0.139535   0.00023822\n",
      "   -0.139535     0.990216   0.00168659\n",
      "-5.50835e-07  -0.00170333     0.999999\n",
      "  p =   0.270664    0.21137 0.00400458\n",
      "\n",
      "Phase 12\n",
      "Right foot contact is True at   R =\n",
      "    0.998118   -0.0613284 -0.000100939\n",
      "   0.0613285     0.998116    0.0017043\n",
      "-3.77258e-06  -0.00170728     0.999999\n",
      "  p =    0.18638 -0.0485387 0.00399927\n",
      "\n",
      "Left foot contact is True at   R =\n",
      "           1 -1.36561e-06  9.23849e-09\n",
      "  1.3656e-06     0.999999   0.00170805\n",
      " -1.1571e-08  -0.00170805     0.999999\n",
      "  p = -0.00884677   0.0848168  0.00401007\n",
      "\n",
      "Phase 13\n",
      "Right foot contact is False at   R =\n",
      "    0.998118   -0.0613284 -0.000100939\n",
      "   0.0613285     0.998116    0.0017043\n",
      "-3.77258e-06  -0.00170728     0.999999\n",
      "  p =    0.18638 -0.0485387 0.00399927\n",
      "\n",
      "Left foot contact is True at   R =\n",
      "           1 -1.36561e-06  9.23849e-09\n",
      "  1.3656e-06     0.999999   0.00170805\n",
      " -1.1571e-08  -0.00170805     0.999999\n",
      "  p = -0.00884677   0.0848168  0.00401007\n",
      "\n",
      "Phase 14\n",
      "Right foot contact is True at   R =\n",
      "           1 -1.34086e-19  7.85045e-17\n",
      "           0     0.999999     0.001708\n",
      "-7.85046e-17    -0.001708     0.999999\n",
      "  p = -0.00884695  -0.0851828  0.00400528\n",
      "\n",
      "Left foot contact is True at   R =\n",
      "           1 -1.36561e-06  9.23849e-09\n",
      "  1.3656e-06     0.999999   0.00170805\n",
      " -1.1571e-08  -0.00170805     0.999999\n",
      "  p = -0.00884677   0.0848168  0.00401007\n",
      "\n",
      "[360 240  59 296  59 261  59 265  60 263  60 262  60 239 200]\n"
     ]
    }
   ],
   "source": [
    "##################Extract Contact Sequence from File#######################\n",
    "FILENAME = '../samples/talos_circle/5'\n",
    "FACTOR_TIME = 1.\n",
    "ROBOT = loadTalosLegs()\n",
    "\n",
    "from locomote import ContactSequenceHumanoid\n",
    "cs = ContactSequenceHumanoid(0)\n",
    "cs.loadFromXML(FILENAME + '/contact_sequence_trajectory.xml', 'contact_sequence')\n",
    "raw_phases = cs.contact_phases\n",
    "\n",
    "rfs = []\n",
    "lfs = []\n",
    "phase_durations = []\n",
    "num_phases = len(raw_phases)\n",
    "for i,cur_phase in enumerate(raw_phases):\n",
    "    rfs.append(cur_phase.RF_patch)\n",
    "    lfs.append(cur_phase.LF_patch)\n",
    "    phase_durations.append(cur_phase.time_trajectory[-1] - cur_phase.time_trajectory[0])\n",
    "    print('Phase {}'.format(i))\n",
    "    print('Right foot contact is {} at {}'.format(cur_phase.RF_patch.active, np.dot(cur_phase.RF_patch.placement,cur_phase.RF_patch.contactModelPlacement)))\n",
    "    print('Left foot contact is {} at {}'.format(cur_phase.LF_patch.active, np.dot(cur_phase.LF_patch.placement,cur_phase.LF_patch.contactModelPlacement)))\n",
    "\n",
    "#Convert durations to number of timesteps for each phase\n",
    "timesteps = np.array(phase_durations)/0.005\n",
    "timesteps = timesteps.astype(int)\n",
    "print timesteps"
   ]
  },
  {
   "cell_type": "markdown",
   "metadata": {},
   "source": [
    "#### Visualize contacts in rviz using tf"
   ]
  },
  {
   "cell_type": "code",
   "execution_count": 8,
   "metadata": {},
   "outputs": [],
   "source": [
    "from scipy.spatial.transform import Rotation as R\n",
    "rate = rospy.Rate(1)\n",
    "for i in range(num_phases):\n",
    "    RF = rfs[i]\n",
    "    LF = lfs[i]\n",
    "    if RF.active:\n",
    "        pose = np.dot(RF.placement, RF.contactModelPlacement)\n",
    "        pose_trans = np.array(pose.translation).flatten()\n",
    "        pose_quat = R.from_dcm(pose.rotation).as_quat()\n",
    "        br.sendTransform(pose_trans.tolist(),pose_quat.tolist(), rospy.Time.now(),\"RF_\" + str(i), 'world')\n",
    "    if LF.active:\n",
    "        pose = np.dot(LF.placement, LF.contactModelPlacement)\n",
    "        pose_trans = np.array(pose.translation).flatten()\n",
    "        pose_quat = R.from_dcm(pose.rotation).as_quat()\n",
    "        br.sendTransform(pose_trans.tolist(),pose_quat.tolist(), rospy.Time.now(),\"LF_\" + str(i), 'world')\n",
    "\n",
    "    pub.publish(config_str)\n",
    "    rate.sleep()"
   ]
  }
 ],
 "metadata": {
  "kernelspec": {
   "display_name": "Python 2",
   "language": "python",
   "name": "python2"
  },
  "language_info": {
   "codemirror_mode": {
    "name": "ipython",
    "version": 2
   },
   "file_extension": ".py",
   "mimetype": "text/x-python",
   "name": "python",
   "nbconvert_exporter": "python",
   "pygments_lexer": "ipython2",
   "version": "2.7.12"
  }
 },
 "nbformat": 4,
 "nbformat_minor": 2
}
